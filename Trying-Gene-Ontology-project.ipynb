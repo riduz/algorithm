{
 "cells": [
  {
   "cell_type": "code",
   "execution_count": null,
   "metadata": {},
   "outputs": [],
   "source": [
    "# Import the OBO parser from GOATools\n",
    "from goatools import obo_parser"
   ]
  },
  {
   "cell_type": "code",
   "execution_count": null,
   "metadata": {},
   "outputs": [],
   "source": [
    "import wget\n",
    "import os"
   ]
  },
  {
   "cell_type": "code",
   "execution_count": null,
   "metadata": {},
   "outputs": [],
   "source": [
    "url = 'http://purl.obolibrary.org/obo/go/go-basic.obo'\n",
    "print(\"Our Data is taken from %s\" % os.getcwd())\n",
    "folder = os.getcwd() + '/geneOntologyData'\n",
    "os.mkdir(folder)\n",
    "obo_path = wget.download(url,folder+'/go obo file')  # The path to the GO OBO file is now stored in the variable obo_path"
   ]
  },
  {
   "cell_type": "code",
   "execution_count": null,
   "metadata": {},
   "outputs": [],
   "source": [
    "print(\"File Path: \")\n",
    "print(obo_path)"
   ]
  },
  {
   "cell_type": "code",
   "execution_count": null,
   "metadata": {},
   "outputs": [],
   "source": [
    "go_Dic = obo_parser.GODag(go_obo) #create a dictionary of the GO terms, using the obo_parser from GOATools"
   ]
  },
  {
   "cell_type": "code",
   "execution_count": null,
   "metadata": {},
   "outputs": [],
   "source": [
    "# How to know about a node by it's ID\n",
    "node_id = 'GO:0000010'\n",
    "find = go_Dic[node_id]\n",
    "print(find)"
   ]
  },
  {
   "cell_type": "code",
   "execution_count": null,
   "metadata": {},
   "outputs": [],
   "source": [
    "# How to print Specific information about a node,Such as , Name of the node, Namespace of the node,\n",
    "# Parents of the node,Children of the node etc\n",
    "print('Go Term Name: {}'.format(find.name))\n",
    "print('Go Term namespace: {}'.format(find.namespace))\n",
    "print('Go Term Parents : {}'.format(find.parents))\n",
    "print('Go Term Children : {}'.format(find.children))"
   ]
  },
  {
   "cell_type": "code",
   "execution_count": null,
   "metadata": {},
   "outputs": [],
   "source": [
    "for ip in find.parents:     # How to print immediate parent(s) of a term\n",
    "    print(ip)"
   ]
  },
  {
   "cell_type": "code",
   "execution_count": null,
   "metadata": {},
   "outputs": [],
   "source": [
    "for ic in find.children:     # How to print immediate children(s) of a term\n",
    "    print(ic)"
   ]
  },
  {
   "cell_type": "code",
   "execution_count": null,
   "metadata": {},
   "outputs": [],
   "source": [
    "rec = go_Dic[node_id]                       # find the parents and children of a GO term,by using an inbuilt function of GOATools\n",
    "parents = rec.get_all_parents()\n",
    "childrens = rec.get_all_children()"
   ]
  },
  {
   "cell_type": "code",
   "execution_count": null,
   "metadata": {},
   "outputs": [],
   "source": [
    "for ap in parents.union(childrens):\n",
    "    print(go_Dic[ap])"
   ]
  },
  {
   "cell_type": "code",
   "execution_count": null,
   "metadata": {},
   "outputs": [],
   "source": [
    "for ac in childrens.union(parents):\n",
    "    print(go_Dic[ac])"
   ]
  }
 ],
 "metadata": {
  "kernelspec": {
   "display_name": "Python 3",
   "language": "python",
   "name": "python3"
  },
  "language_info": {
   "codemirror_mode": {
    "name": "ipython",
    "version": 3
   },
   "file_extension": ".py",
   "mimetype": "text/x-python",
   "name": "python",
   "nbconvert_exporter": "python",
   "pygments_lexer": "ipython3",
   "version": "3.7.3"
  }
 },
 "nbformat": 4,
 "nbformat_minor": 2
}
